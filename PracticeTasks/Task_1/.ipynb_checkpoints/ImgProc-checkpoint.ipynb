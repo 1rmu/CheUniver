{
 "cells": [
  {
   "cell_type": "code",
   "execution_count": 1,
   "metadata": {},
   "outputs": [],
   "source": [
    "import imutils\n",
    "import cv2\n",
    "import numpy as np\n",
    "from matplotlib import pyplot as plt\n",
    "\n",
    "#Загрузка изображения\n",
    "image = cv2.imread(\"pr1.jpg\")\n",
    "(h, w, d) = image.shape\n",
    "cv2.imshow(\"Image\", image)\n",
    "cv2.waitKey(0)\n",
    "cv2.destroyAllWindows() "
   ]
  },
  {
   "cell_type": "code",
   "execution_count": 2,
   "metadata": {},
   "outputs": [],
   "source": [
    "#Перевод в 8\n",
    "image_gray = cv2.cvtColor(image, cv2.COLOR_BGR2GRAY)\n",
    "cv2.imshow(\"Image_original\", image)\n",
    "cv2.imshow(\"Image_gray\", image_gray)\n",
    "cv2.waitKey(0)\n",
    "cv2.destroyAllWindows() "
   ]
  },
  {
   "cell_type": "code",
   "execution_count": 3,
   "metadata": {},
   "outputs": [],
   "source": [
    "#Медиан\n",
    "med_img = cv2.medianBlur(image, 7)\n",
    "cv2.imshow(\"Median Filter k=7\", med_img)\n",
    "cv2.imshow(\"Image_original\", image)\n",
    "cv2.waitKey(0)\n",
    "cv2.destroyAllWindows() "
   ]
  },
  {
   "cell_type": "code",
   "execution_count": 23,
   "metadata": {},
   "outputs": [],
   "source": [
    "#Собель\n",
    "scale = 1\n",
    "delta = 0\n",
    "ddepth = cv2.CV_16S\n",
    "\n",
    "img = cv2.imread('pr1.jpg', cv2.IMREAD_GRAYSCALE)\n",
    "\n",
    "height, width = img.shape[:2]\n",
    "\n",
    "res = cv2.resize(img,(int(width), int(height)), interpolation = cv2.INTER_CUBIC)\n",
    "\n",
    "res = cv2.bilateralFilter(res,11,75,75)\n",
    "\n",
    "rows, cols = res.shape\n",
    "grad_x = cv2.Sobel(res, ddepth, 1, 0, ksize=3, scale=scale, delta=delta, borderType=cv2.BORDER_DEFAULT)\n",
    "grad_y = cv2.Sobel(res, ddepth, 0, 1, ksize=3, scale=scale, delta=delta, borderType=cv2.BORDER_DEFAULT)\n",
    "abs_grad_x = cv2.convertScaleAbs(grad_x)\n",
    "abs_grad_y = cv2.convertScaleAbs(grad_y)\n",
    "Sobel = cv2.addWeighted(abs_grad_x, 0.5, abs_grad_y, 0.5, 0)\n",
    "cv2.imshow(\"Image_original\", image)\n",
    "cv2.imshow('Sobel', Sobel)\n",
    "cv2.waitKey(0)\n",
    "cv2.destroyAllWindows() "
   ]
  },
  {
   "cell_type": "code",
   "execution_count": 24,
   "metadata": {},
   "outputs": [],
   "source": [
    "#Otsu\n",
    "ret, otsu = cv2.threshold(Sobel,0,255,cv2.THRESH_BINARY+cv2.THRESH_OTSU)\n",
    "cv2.imshow(\"Image_original\", image)\n",
    "cv2.imshow('Otsu', otsu)\n",
    "cv2.waitKey(0)\n",
    "cv2.destroyAllWindows()"
   ]
  },
  {
   "cell_type": "code",
   "execution_count": null,
   "metadata": {},
   "outputs": [],
   "source": [
    "#Контуры\n",
    "img = cv2.imread('pr1.jpg')\n",
    "gray = cv2.cvtColor(img, cv2.COLOR_RGB2GRAY)\n",
    "ret,Sobel = cv2.threshold(gray,127,255,cv2.THRESH_BINARY)\n",
    "contours, hierarchy = cv2.findContours(otsu,cv2.RETR_TREE,cv2.CHAIN_APPROX_SIMPLE)\n",
    "cv2.drawContours( img, contours, -1, (255,0,0), 2, cv2.LINE_AA, hierarchy, 1)\n",
    "cv2.imshow('contours', img)\n",
    "cv2.waitKey(0)\n",
    "cv2.destroyAllWindows()"
   ]
  },
  {
   "cell_type": "code",
   "execution_count": 22,
   "metadata": {},
   "outputs": [],
   "source": [
    "#Макс площадь\n",
    "img_contyr = cv2.imread('pr1.jpg')\n",
    "max_area = 0\n",
    "max_contour = None\n",
    "for contour in contours:\n",
    "    area_7 = cv2.contourArea(contour)\n",
    "    if area_7 > max_area:\n",
    "        max_area = area_7\n",
    "        max_contour = contour\n",
    "cv2.drawContours(img_contyr, [max_contour], -1, (0, 255, 0), -1)\n",
    "cv2.imshow(\"Contyr max S\", img_contyr )\n",
    "cv2.waitKey(0)\n",
    "cv2.destroyAllWindows()"
   ]
  },
  {
   "cell_type": "code",
   "execution_count": 18,
   "metadata": {},
   "outputs": [],
   "source": [
    "img_contyr_perebor = cv2.imread('pr1.jpg',0)\n",
    "area = max_area\n",
    "for contour in contours:\n",
    "    area_8 = cv2.contourArea(contour)\n",
    "    if area_8 <= area:\n",
    "        cv2.drawContours(img_contyr_perebor, [contour], contourIdx=-1, color=(0,0,0),thickness=-1)\n",
    "cv2.imshow(\"Contyr perebor\", img_contyr_perebor ) \n",
    "cv2.drawContours( img, contours, -1, (255,0,0), 2, cv2.LINE_AA, hierarchy, 1)\n",
    "cv2.imshow('contours', img)\n",
    "cv2.waitKey(0)\n",
    "cv2.destroyAllWindows()"
   ]
  },
  {
   "cell_type": "code",
   "execution_count": 21,
   "metadata": {},
   "outputs": [],
   "source": [
    "#Логическое И\n",
    "img = cv2.imread('pr1.jpg')\n",
    "mul_res = cv2.bitwise_and(image_gray,img_contyr_perebor)\n",
    "cv2.imshow(\"Bitwise AND\", mul_res)\n",
    "cv2.waitKey(0)# закрытие окна\n",
    "cv2.destroyAllWindows() "
   ]
  },
  {
   "cell_type": "code",
   "execution_count": null,
   "metadata": {},
   "outputs": [],
   "source": []
  }
 ],
 "metadata": {
  "kernelspec": {
   "display_name": "Python 3",
   "language": "python",
   "name": "python3"
  },
  "language_info": {
   "codemirror_mode": {
    "name": "ipython",
    "version": 3
   },
   "file_extension": ".py",
   "mimetype": "text/x-python",
   "name": "python",
   "nbconvert_exporter": "python",
   "pygments_lexer": "ipython3",
   "version": "3.8.5"
  }
 },
 "nbformat": 4,
 "nbformat_minor": 4
}
