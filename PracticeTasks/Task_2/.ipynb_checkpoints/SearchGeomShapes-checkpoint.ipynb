{
 "cells": [
  {
   "cell_type": "code",
   "execution_count": 7,
   "metadata": {},
   "outputs": [],
   "source": [
    "#Открытие исходного изображения\n",
    "from PIL import Image\n",
    "import imutils\n",
    "import cv2\n",
    "import numpy as np\n",
    "from matplotlib import pyplot as plt\n",
    "\n",
    "image = cv2.imread(\"pr2.jpg\")\n",
    "cv2.imshow(\"Image\", image)\n",
    "cv2.waitKey(0)\n",
    "cv2.destroyAllWindows() "
   ]
  },
  {
   "cell_type": "code",
   "execution_count": 9,
   "metadata": {},
   "outputs": [],
   "source": [
    "#Изменение масштаба исходного изображения\n",
    "\n",
    "image = cv2.imread(\"pr2.jpg\")\n",
    "height, width = image.shape[:2]\n",
    "res = cv2.resize(image,(int(0.25*width), int(0.25*height)), interpolation = cv2.INTER_CUBIC)\n",
    "cv2.imshow(\"Image\", res)\n",
    "cv2.waitKey(0)\n",
    "cv2.destroyAllWindows()"
   ]
  },
  {
   "cell_type": "code",
   "execution_count": 10,
   "metadata": {},
   "outputs": [],
   "source": [
    "#Переход в 8-ми битовый формат\n",
    "\n",
    "image_gray = cv2.cvtColor(res, cv2.COLOR_BGR2GRAY)\n",
    "cv2.imshow(\"Image_original\", res)\n",
    "cv2.imshow(\"Image_gray\", image_gray)\n",
    "cv2.waitKey(0)\n",
    "cv2.destroyAllWindows() "
   ]
  },
  {
   "cell_type": "code",
   "execution_count": 16,
   "metadata": {},
   "outputs": [],
   "source": [
    "#Поиск контуров на изображении\n",
    "#Шаг 1 проведем фильтрацию\n",
    "scale = 1\n",
    "delta = 0\n",
    "ddepth = cv2.CV_16S\n",
    "img = cv2.imread('pr2.jpg', cv2.IMREAD_GRAYSCALE)\n",
    "height, width = img.shape[:2]\n",
    "res = cv2.resize(img,(int(0.25*width), int(0.25*height)), interpolation = cv2.INTER_CUBIC)\n",
    "res = cv2.bilateralFilter(res,11,75,75)\n",
    "rows, cols = res.shape\n",
    "grad_x = cv2.Sobel(res, ddepth, 1, 0, ksize=3, scale=scale, delta=delta, borderType=cv2.BORDER_DEFAULT)\n",
    "grad_y = cv2.Sobel(res, ddepth, 0, 1, ksize=3, scale=scale, delta=delta, borderType=cv2.BORDER_DEFAULT)\n",
    "abs_grad_x = cv2.convertScaleAbs(grad_x)\n",
    "abs_grad_y = cv2.convertScaleAbs(grad_y)\n",
    "Sobel = cv2.addWeighted(abs_grad_x, 0.5, abs_grad_y, 0.5, 0)\n",
    "\n",
    "#Шаг 2 применим метод Отцу\n",
    "\n",
    "ret, otsu = cv2.threshold(Sobel,0,255,cv2.THRESH_BINARY+cv2.THRESH_OTSU)\n",
    "\n",
    "#Шаг 3 Найдем контуры\n",
    "\n",
    "res = cv2.resize(image,(int(0.25*width), int(0.25*height)), interpolation = cv2.INTER_CUBIC)\n",
    "gray = cv2.cvtColor(res, cv2.COLOR_RGB2GRAY)\n",
    "ret,Sobel = cv2.threshold(gray,127,255,cv2.THRESH_BINARY)\n",
    "contours, hierarchy = cv2.findContours(otsu,cv2.RETR_TREE,cv2.CHAIN_APPROX_SIMPLE)\n",
    "cv2.drawContours( res, contours, -1, (255,0,0), 2, cv2.LINE_AA, hierarchy, 1)\n",
    "cv2.imshow('contours', res)\n",
    "cv2.waitKey(0)\n",
    "cv2.destroyAllWindows()"
   ]
  },
  {
   "cell_type": "code",
   "execution_count": 18,
   "metadata": {},
   "outputs": [
    {
     "name": "stdout",
     "output_type": "stream",
     "text": [
      "8\n",
      "4\n",
      "6\n",
      "4\n",
      "8\n",
      "3\n",
      "\n",
      " Пятиугольников: 0 \n",
      " Треугольников: 1 \n",
      " Квадратов: 2 \n",
      " Окружностей: 2 \n",
      " Шестиугольников: 1\n"
     ]
    }
   ],
   "source": [
    "#Поиск геометрических фигур на изображении\n",
    "P=0\n",
    "T=0\n",
    "K=0\n",
    "Kr=0\n",
    "Sh=0\n",
    "shape=\"\"\n",
    "\n",
    "ret,thresh = cv2.threshold(gray,127,255,1)\n",
    "\n",
    "contours,h = cv2.findContours(thresh,cv2.RETR_EXTERNAL, cv2.CHAIN_APPROX_SIMPLE)\n",
    "\n",
    "for counter in contours:\n",
    "    approx = cv2.approxPolyDP(counter,0.025*cv2.arcLength(counter,True),True)\n",
    "    print (len(approx))\n",
    "    if len(approx)==5:\n",
    "        shape = \"Patyugolnik\"\n",
    "        P+=1\n",
    "    elif len(approx)==3:\n",
    "        shape = \"Treugolnik\"\n",
    "        T+=1\n",
    "    elif len(approx)==4:\n",
    "        shape = \"Kvadrat\"\n",
    "        K+=1\n",
    "    elif len(approx) > 7:\n",
    "        shape = \"Krug\"\n",
    "        Kr+=1\n",
    "    elif len(approx) == 6:\n",
    "        shape = \"Shestiugolnik\"\n",
    "        Sh+=1\n",
    "        \n",
    "        \n",
    "    M = cv2.moments (approx)\n",
    "    approx_x = int(M[\"m10\"]/M[\"m00\"])\n",
    "    approx_y = int(M[\"m01\"]/M[\"m00\"])\n",
    "    \n",
    "    cv2.circle (res, (approx_x, approx_y), 2, (0,0,0), -1)\n",
    "    cv2.putText(res, shape, (approx_x-10, approx_y-10), cv2.FONT_HERSHEY_SIMPLEX, 0.75, (0,0,0),2)\n",
    "    \n",
    "cv2.imshow('Figuri',res)\n",
    "print (\"\\n Пятиугольников:\",P,\"\\n Треугольников:\",T,\"\\n Квадратов:\",K,\"\\n Окружностей:\",Kr,\"\\n Шестиугольников:\",Sh)\n",
    "cv2.waitKey(0)\n",
    "cv2.destroyAllWindows()"
   ]
  },
  {
   "cell_type": "code",
   "execution_count": null,
   "metadata": {},
   "outputs": [],
   "source": []
  }
 ],
 "metadata": {
  "kernelspec": {
   "display_name": "Python 3",
   "language": "python",
   "name": "python3"
  },
  "language_info": {
   "codemirror_mode": {
    "name": "ipython",
    "version": 3
   },
   "file_extension": ".py",
   "mimetype": "text/x-python",
   "name": "python",
   "nbconvert_exporter": "python",
   "pygments_lexer": "ipython3",
   "version": "3.8.5"
  }
 },
 "nbformat": 4,
 "nbformat_minor": 4
}
