{
 "cells": [
  {
   "cell_type": "code",
   "execution_count": null,
   "metadata": {},
   "outputs": [],
   "source": [
    "#Для знака STOP\n",
    "import pytesseract\n",
    "import cv2\n",
    "import numpy as np\n",
    "pytesseract.pytesseract.tesseract_cmd = 'C:\\\\Program Files (x86)\\\\Tesseract-OCR\\\\tesseract.exe'\n",
    "#Загружаем изображение\n",
    "image=cv2.imread(\"STOP.jpg\")\n",
    "\n",
    "#Преобразуем картинку в 8-ми битовое цветовое пространство\n",
    "gray=cv2.cvtColor(image, cv2.COLOR_BGR2GRAY)\n",
    "\n",
    "#Проведем биноризациюю изображения\n",
    "ret,thresh1 = cv2.threshold(gray,150,255,cv2.THRESH_BINARY_INV)\n",
    "\n",
    "#Поиск контуров\n",
    "contours, hierarchy = cv2.findContours(thresh1, cv2.RETR_EXTERNAL, cv2.CHAIN_APPROX_SIMPLE)\n",
    "cv2.drawContours(image, contours, -1, (0, 0, 0), -1)\n",
    "\n",
    "#Поиск с контура 8-ми углами и заполнение его белым цветом\n",
    "for counter in contours:\n",
    "    approx = cv2.approxPolyDP(counter,0.025*cv2.arcLength(counter,True),True)\n",
    "    if len(approx)==8:\n",
    "        image_p=cv2.fillPoly(image, [counter], color=(255,255,255))\n",
    "\n",
    "#Выполнение логического И\n",
    "mul_res = cv2.bitwise_and(image_p,cv2.cvtColor(thresh1, cv2.COLOR_GRAY2RGB))\n",
    "\n",
    "#Операция эрозии\n",
    "kernel=cv2.getStructuringElement(cv2.MORPH_RECT,(3,3))\n",
    "erosion=cv2.dilate(mul_res, kernel, iterations=1)\n",
    "\n",
    "#Заливка фона белым цветом\n",
    "h,w =image.shape[:2]\n",
    "mask=np.zeros((h+2,w+2), np.uint8)\n",
    "cv2.floodFill(erosion, mask, (0,0),(255,255,255))\n",
    "\n",
    "#Вывод результата\n",
    "data = pytesseract.image_to_string(erosion)\n",
    "print('Текст на знаке: '+data)\n",
    "\n",
    "\n",
    "\n",
    "cv2.imshow(\"Image\", erosion)\n",
    "cv2.waitKey(0)\n",
    "cv2.destroyAllWindows() \n",
    "\n"
   ]
  },
  {
   "cell_type": "code",
   "execution_count": 15,
   "metadata": {},
   "outputs": [
    {
     "name": "stdout",
     "output_type": "stream",
     "text": [
      "Текст на знаке: 60\n",
      "\n",
      "\n"
     ]
    }
   ],
   "source": [
    "#Для знака 60\n",
    "import pytesseract\n",
    "import cv2\n",
    "import numpy as np\n",
    "pytesseract.pytesseract.tesseract_cmd = 'C:\\\\Program Files (x86)\\\\Tesseract-OCR\\\\tesseract.exe'\n",
    "#Загружаем изображение\n",
    "image=cv2.imread(\"Task.jpg\")\n",
    "\n",
    "#Преобразуем картинку в 8-ми битовое цветовое пространство\n",
    "gray=cv2.cvtColor(image, cv2.COLOR_BGR2GRAY)\n",
    "\n",
    "#Проведем биноризациюю изображения\n",
    "ret,thresh1 = cv2.threshold(gray,150,255,cv2.THRESH_BINARY_INV)\n",
    "\n",
    "#Поиск контуров\n",
    "contours, hierarchy = cv2.findContours(thresh1, cv2.RETR_EXTERNAL, cv2.CHAIN_APPROX_SIMPLE)\n",
    "cv2.drawContours(image, contours, -1, (0, 0, 0), -1)\n",
    "\n",
    "#Поиск с контура заполнение его белым цветом\n",
    "for counter in contours:\n",
    "    approx = cv2.approxPolyDP(counter,0.025*cv2.arcLength(counter,True),True)\n",
    "    if len(approx)>8:\n",
    "        image_p=cv2.fillPoly(image, [counter], color=(255,255,255))\n",
    "mul_res = cv2.bitwise_not(thresh1,cv2.cvtColor(thresh1, cv2.COLOR_GRAY2RGB))\n",
    "\n",
    "#Операция эрозии\n",
    "kernel=cv2.getStructuringElement(cv2.MORPH_RECT,(3,3))\n",
    "erosion=cv2.dilate(mul_res, kernel, iterations=1)\n",
    "\n",
    "#Заливка фона белым цветом\n",
    "h,w =image.shape[:2]\n",
    "mask=np.zeros((h+2,w+2), np.uint8)\n",
    "cv2.floodFill(erosion, mask, (300,300),(255,255,255))\n",
    "\n",
    "#Вывод результата\n",
    "data = pytesseract.image_to_string(erosion)\n",
    "print('Текст на знаке: '+data)\n",
    "\n",
    "cv2.imshow(\"Image\",erosion)\n",
    "cv2.waitKey(0)\n",
    "cv2.destroyAllWindows() "
   ]
  }
 ],
 "metadata": {
  "kernelspec": {
   "display_name": "Python 3 (ipykernel)",
   "language": "python",
   "name": "python3"
  },
  "language_info": {
   "codemirror_mode": {
    "name": "ipython",
    "version": 3
   },
   "file_extension": ".py",
   "mimetype": "text/x-python",
   "name": "python",
   "nbconvert_exporter": "python",
   "pygments_lexer": "ipython3",
   "version": "3.8.16"
  }
 },
 "nbformat": 4,
 "nbformat_minor": 4
}
