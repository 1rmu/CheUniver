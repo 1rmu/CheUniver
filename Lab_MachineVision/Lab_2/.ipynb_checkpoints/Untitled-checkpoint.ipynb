{
 "cells": [
  {
   "cell_type": "code",
   "execution_count": 34,
   "metadata": {},
   "outputs": [],
   "source": [
    "from cv2 import aruco\n",
    "import cv2\n",
    "import numpy as np\n",
    "import math\n",
    "D=21\n",
    "W=40\n",
    "#Загрузим словарь, который использовался при созданиии маркера\n",
    "dictionary = cv2.aruco.Dictionary_get(cv2.aruco.DICT_4X4_250)\n",
    "## Инициализируем параметры детектора, используя значения по умолчанию\n",
    "parameters =  cv2.aruco.DetectorParameters_create()\n",
    "#Загрузим изображение\n",
    "image=cv2.imread(\"lb2-2.png\")\n",
    "#Изменение масштаба\n",
    "height, width = image.shape[:2]\n",
    "res = cv2.resize(image,(int(0.65*width), int(0.65*height)), interpolation = cv2.INTER_CUBIC)\n",
    "\n",
    "#Переведем его в 8-ми битовое пространство\n",
    "gray = cv2.cvtColor(res, cv2.COLOR_BGR2GRAY)\n",
    "#Обнаружим на изображении маркер\n",
    "markerCorners, markerIds, rejectedCandidates = cv2.aruco.detectMarkers(gray, dictionary, parameters=parameters)\n",
    "image_with_markers=aruco.drawDetectedMarkers(res.copy(), markerCorners, markerIds)\n",
    "\n",
    "#Отобразим изображение с найденными на нем маркерами\n",
    "cv2.imshow(\"Image\", image_with_markers)\n",
    "cv2.waitKey(0)\n",
    "cv2.destroyAllWindows() "
   ]
  },
  {
   "cell_type": "code",
   "execution_count": 35,
   "metadata": {},
   "outputs": [],
   "source": [
    "#Получим координаты маркеров\n",
    "x1=int(markerCorners[0][0][0][0])\n",
    "y1=int(markerCorners[0][0][0][1])\n",
    "x2=int(markerCorners[1][0][0][0])\n",
    "y2=int(markerCorners[1][0][0][1])\n",
    "#Проверим правильность нахождения координат\n",
    "cv2.circle (image_with_markers, (x1, y1), 2, (255,0,0), 5)\n",
    "cv2.circle (image_with_markers, (x2, y2), 2, (255,0,0), 5)\n",
    "cv2.imshow(\"Image\", image_with_markers)\n",
    "cv2.waitKey(0)\n",
    "cv2.destroyAllWindows() "
   ]
  },
  {
   "cell_type": "code",
   "execution_count": 36,
   "metadata": {},
   "outputs": [
    {
     "name": "stdout",
     "output_type": "stream",
     "text": [
      "Евклидово расстояние: 698\n",
      "Фокусное расстояние: 366\n"
     ]
    }
   ],
   "source": [
    "#Введем функцию, возвращающую евклидово расстояние между двумя точками\n",
    "def calculateDistancePx(x1,y1,x2,y2):\n",
    "    P=math.sqrt((x2-x1)**2+(y2-y1)**2)\n",
    "    return int(P)\n",
    "print(\"Евклидово расстояние:\", calculateDistancePx(x1,y1,x2,y2))\n",
    "#Вычислим фокусное расстояние\n",
    "F=int((calculateDistancePx(x1,y1,x2,y2))*D/W)\n",
    "print(\"Фокусное расстояние:\", F)"
   ]
  },
  {
   "cell_type": "code",
   "execution_count": 42,
   "metadata": {},
   "outputs": [
    {
     "name": "stdout",
     "output_type": "stream",
     "text": [
      "Расстояние до маркера: 30 См\n"
     ]
    }
   ],
   "source": [
    "#Вычисление расстояния от камеры до маркеров\n",
    "#Загрузим изображение 2\n",
    "image2=cv2.imread(\"lb2-3.png\")\n",
    "\n",
    "#Изменение масштаба\n",
    "height2, width2 = image2.shape[:2]\n",
    "res2 = cv2.resize(image2,(int(0.65*width2), int(0.65*height2)), interpolation = cv2.INTER_CUBIC)\n",
    "\n",
    "#Переведем его в 8-ми битовое пространство\n",
    "gray2 = cv2.cvtColor(res2, cv2.COLOR_BGR2GRAY)\n",
    "\n",
    "\n",
    "#Обнаружим на изображении маркер\n",
    "markerCorners2, markerIds2, rejectedCandidates2 = cv2.aruco.detectMarkers(gray2, dictionary, parameters=parameters)\n",
    "image_with_markers2=aruco.drawDetectedMarkers(res2.copy(), markerCorners2, markerIds2)\n",
    "\n",
    "#cv2.imshow(\"Image\", image_with_markers2)\n",
    "#cv2.waitKey(0)\n",
    "#cv2.destroyAllWindows() \n",
    "#Получим координаты маркеров\n",
    "x12=int(markerCorners2[0][0][0][0])\n",
    "y12=int(markerCorners2[0][0][0][1])\n",
    "x22=int(markerCorners2[1][0][0][0])\n",
    "y22=int(markerCorners2[1][0][0][1])\n",
    "\n",
    "Rastoyanye=int((W*F)/calculateDistancePx(x12,y12,x22,y22))\n",
    "\n",
    "print(\"Расстояние до маркера:\", Rastoyanye, \"См\")\n",
    "\n",
    "cv2.imshow(\"Расстояние до маркера приблизительно равно\", image_with_markers2)\n",
    "cv2.waitKey(0)\n",
    "cv2.destroyAllWindows() \n",
    "\n"
   ]
  },
  {
   "cell_type": "code",
   "execution_count": null,
   "metadata": {},
   "outputs": [],
   "source": []
  }
 ],
 "metadata": {
  "kernelspec": {
   "display_name": "Python 3",
   "language": "python",
   "name": "python3"
  },
  "language_info": {
   "codemirror_mode": {
    "name": "ipython",
    "version": 3
   },
   "file_extension": ".py",
   "mimetype": "text/x-python",
   "name": "python",
   "nbconvert_exporter": "python",
   "pygments_lexer": "ipython3",
   "version": "3.8.5"
  }
 },
 "nbformat": 4,
 "nbformat_minor": 4
}
