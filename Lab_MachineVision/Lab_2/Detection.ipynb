{
 "cells": [
  {
   "cell_type": "code",
   "execution_count": 4,
   "metadata": {},
   "outputs": [
    {
     "ename": "AttributeError",
     "evalue": "module 'cv2.aruco' has no attribute 'detectMarkers'",
     "output_type": "error",
     "traceback": [
      "\u001b[1;31m---------------------------------------------------------------------------\u001b[0m",
      "\u001b[1;31mAttributeError\u001b[0m                            Traceback (most recent call last)",
      "Input \u001b[1;32mIn [4]\u001b[0m, in \u001b[0;36m<cell line: 19>\u001b[1;34m()\u001b[0m\n\u001b[0;32m     17\u001b[0m gray \u001b[38;5;241m=\u001b[39m cv2\u001b[38;5;241m.\u001b[39mcvtColor(res, cv2\u001b[38;5;241m.\u001b[39mCOLOR_BGR2GRAY)\n\u001b[0;32m     18\u001b[0m \u001b[38;5;66;03m#Обнаружим на изображении маркер\u001b[39;00m\n\u001b[1;32m---> 19\u001b[0m markerCorners, markerIds, rejectedCandidates \u001b[38;5;241m=\u001b[39m \u001b[43mcv2\u001b[49m\u001b[38;5;241;43m.\u001b[39;49m\u001b[43maruco\u001b[49m\u001b[38;5;241;43m.\u001b[39;49m\u001b[43mdetectMarkers\u001b[49m(gray, dictionary, parameters\u001b[38;5;241m=\u001b[39mparameters)\n\u001b[0;32m     20\u001b[0m image_with_markers\u001b[38;5;241m=\u001b[39maruco\u001b[38;5;241m.\u001b[39mdrawDetectedMarkers(res\u001b[38;5;241m.\u001b[39mcopy(), markerCorners, markerIds)\n\u001b[0;32m     22\u001b[0m \u001b[38;5;66;03m#Отобразим изображение с найденными на нем маркерами\u001b[39;00m\n",
      "\u001b[1;31mAttributeError\u001b[0m: module 'cv2.aruco' has no attribute 'detectMarkers'"
     ]
    }
   ],
   "source": [
    "from cv2 import aruco\n",
    "import cv2\n",
    "import numpy as np\n",
    "import math\n",
    "D=21\n",
    "W=40\n",
    "#Загрузим словарь, который использовался при созданиии маркера\n",
    "dictionary = cv2.aruco.getPredefinedDictionary(cv2.aruco.DICT_4X4_250)\n",
    "parameters =  cv2.aruco.DetectorParameters()\n",
    "#Загрузим изображение\n",
    "image=cv2.imread(\"lb2-2.png\")\n",
    "#Изменение масштаба\n",
    "height, width = image.shape[:2]\n",
    "res = cv2.resize(image,(int(0.65*width), int(0.65*height)), interpolation = cv2.INTER_CUBIC)\n",
    "\n",
    "#Переведем его в 8-ми битовое пространство\n",
    "gray = cv2.cvtColor(res, cv2.COLOR_BGR2GRAY)\n",
    "#Обнаружим на изображении маркер\n",
    "markerCorners, markerIds, rejectedCandidates = cv2.aruco.detectMarkers(gray, dictionary, parameters=parameters)\n",
    "image_with_markers=aruco.drawDetectedMarkers(res.copy(), markerCorners, markerIds)\n",
    "\n",
    "#Отобразим изображение с найденными на нем маркерами\n",
    "cv2.imshow(\"Image\", image_with_markers)\n",
    "cv2.waitKey(0)\n",
    "cv2.destroyAllWindows() "
   ]
  },
  {
   "cell_type": "code",
   "execution_count": 2,
   "metadata": {},
   "outputs": [
    {
     "ename": "NameError",
     "evalue": "name 'markerCorners' is not defined",
     "output_type": "error",
     "traceback": [
      "\u001b[1;31m---------------------------------------------------------------------------\u001b[0m",
      "\u001b[1;31mNameError\u001b[0m                                 Traceback (most recent call last)",
      "Input \u001b[1;32mIn [2]\u001b[0m, in \u001b[0;36m<cell line: 2>\u001b[1;34m()\u001b[0m\n\u001b[0;32m      1\u001b[0m \u001b[38;5;66;03m#Получим координаты маркеров\u001b[39;00m\n\u001b[1;32m----> 2\u001b[0m x1\u001b[38;5;241m=\u001b[39m\u001b[38;5;28mint\u001b[39m(\u001b[43mmarkerCorners\u001b[49m[\u001b[38;5;241m0\u001b[39m][\u001b[38;5;241m0\u001b[39m][\u001b[38;5;241m0\u001b[39m][\u001b[38;5;241m0\u001b[39m])\n\u001b[0;32m      3\u001b[0m y1\u001b[38;5;241m=\u001b[39m\u001b[38;5;28mint\u001b[39m(markerCorners[\u001b[38;5;241m0\u001b[39m][\u001b[38;5;241m0\u001b[39m][\u001b[38;5;241m0\u001b[39m][\u001b[38;5;241m1\u001b[39m])\n\u001b[0;32m      4\u001b[0m x2\u001b[38;5;241m=\u001b[39m\u001b[38;5;28mint\u001b[39m(markerCorners[\u001b[38;5;241m1\u001b[39m][\u001b[38;5;241m0\u001b[39m][\u001b[38;5;241m0\u001b[39m][\u001b[38;5;241m0\u001b[39m])\n",
      "\u001b[1;31mNameError\u001b[0m: name 'markerCorners' is not defined"
     ]
    }
   ],
   "source": [
    "#Получим координаты маркеров\n",
    "x1=int(markerCorners[0][0][0][0])\n",
    "y1=int(markerCorners[0][0][0][1])\n",
    "x2=int(markerCorners[1][0][0][0])\n",
    "y2=int(markerCorners[1][0][0][1])\n",
    "#Проверим правильность нахождения координат\n",
    "cv2.circle (image_with_markers, (x1, y1), 2, (255,0,0), 5)\n",
    "cv2.circle (image_with_markers, (x2, y2), 2, (255,0,0), 5)\n",
    "cv2.imshow(\"Image\", image_with_markers)\n",
    "cv2.waitKey(0)\n",
    "cv2.destroyAllWindows() "
   ]
  },
  {
   "cell_type": "code",
   "execution_count": 36,
   "metadata": {},
   "outputs": [
    {
     "name": "stdout",
     "output_type": "stream",
     "text": [
      "Евклидово расстояние: 698\n",
      "Фокусное расстояние: 366\n"
     ]
    }
   ],
   "source": [
    "#Введем функцию, возвращающую евклидово расстояние между двумя точками\n",
    "def calculateDistancePx(x1,y1,x2,y2):\n",
    "    P=math.sqrt((x2-x1)**2+(y2-y1)**2)\n",
    "    return int(P)\n",
    "print(\"Евклидово расстояние:\", calculateDistancePx(x1,y1,x2,y2))\n",
    "#Вычислим фокусное расстояние\n",
    "F=int((calculateDistancePx(x1,y1,x2,y2))*D/W)\n",
    "print(\"Фокусное расстояние:\", F)"
   ]
  },
  {
   "cell_type": "code",
   "execution_count": 42,
   "metadata": {},
   "outputs": [
    {
     "name": "stdout",
     "output_type": "stream",
     "text": [
      "Расстояние до маркера: 30 См\n"
     ]
    }
   ],
   "source": [
    "#Вычисление расстояния от камеры до маркеров\n",
    "#Загрузим изображение 2\n",
    "image2=cv2.imread(\"lb2-3.png\")\n",
    "\n",
    "#Изменение масштаба\n",
    "height2, width2 = image2.shape[:2]\n",
    "res2 = cv2.resize(image2,(int(0.65*width2), int(0.65*height2)), interpolation = cv2.INTER_CUBIC)\n",
    "\n",
    "#Переведем его в 8-ми битовое пространство\n",
    "gray2 = cv2.cvtColor(res2, cv2.COLOR_BGR2GRAY)\n",
    "\n",
    "\n",
    "#Обнаружим на изображении маркер\n",
    "markerCorners2, markerIds2, rejectedCandidates2 = cv2.aruco.detectMarkers(gray2, dictionary, parameters=parameters)\n",
    "image_with_markers2=aruco.drawDetectedMarkers(res2.copy(), markerCorners2, markerIds2)\n",
    "\n",
    "#cv2.imshow(\"Image\", image_with_markers2)\n",
    "#cv2.waitKey(0)\n",
    "#cv2.destroyAllWindows() \n",
    "#Получим координаты маркеров\n",
    "x12=int(markerCorners2[0][0][0][0])\n",
    "y12=int(markerCorners2[0][0][0][1])\n",
    "x22=int(markerCorners2[1][0][0][0])\n",
    "y22=int(markerCorners2[1][0][0][1])\n",
    "\n",
    "Rastoyanye=int((W*F)/calculateDistancePx(x12,y12,x22,y22))\n",
    "\n",
    "print(\"Расстояние до маркера:\", Rastoyanye, \"См\")\n",
    "\n",
    "cv2.imshow(\"Расстояние до маркера приблизительно равно\", image_with_markers2)\n",
    "cv2.waitKey(0)\n",
    "cv2.destroyAllWindows() \n",
    "\n"
   ]
  },
  {
   "cell_type": "code",
   "execution_count": null,
   "metadata": {},
   "outputs": [],
   "source": []
  }
 ],
 "metadata": {
  "kernelspec": {
   "display_name": "Python 3",
   "language": "python",
   "name": "python3"
  },
  "language_info": {
   "codemirror_mode": {
    "name": "ipython",
    "version": 3
   },
   "file_extension": ".py",
   "mimetype": "text/x-python",
   "name": "python",
   "nbconvert_exporter": "python",
   "pygments_lexer": "ipython3",
   "version": "3.8.5"
  }
 },
 "nbformat": 4,
 "nbformat_minor": 4
}
