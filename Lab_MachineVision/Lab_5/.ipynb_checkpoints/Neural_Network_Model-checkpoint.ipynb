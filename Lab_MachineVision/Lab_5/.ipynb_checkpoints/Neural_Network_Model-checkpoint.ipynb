{
 "cells": [
  {
   "cell_type": "code",
   "execution_count": 1,
   "metadata": {
    "colab": {},
    "colab_type": "code",
    "id": "UZ1Mq3Lgteuz"
   },
   "outputs": [
    {
     "name": "stderr",
     "output_type": "stream",
     "text": [
      "Using TensorFlow backend.\n"
     ]
    },
    {
     "name": "stdout",
     "output_type": "stream",
     "text": [
      "Downloading data from https://s3.amazonaws.com/img-datasets/mnist.npz\n",
      "11493376/11490434 [==============================] - 12s 1us/step\n",
      "X_train shape (60000, 28, 28)\n",
      "y_train shape (60000,)\n",
      "X_test shape (10000, 28, 28)\n",
      "y_test shape (10000,)\n"
     ]
    }
   ],
   "source": [
    "# импорт необходимых библиотек\n",
    "%matplotlib inline\n",
    "import numpy as np                 \n",
    "import matplotlib.pyplot as plt      \n",
    "import random\n",
    "import cv2\n",
    "\n",
    "from keras.datasets import mnist     # здесь подгружаем датасет MNIST\n",
    "from keras.models import Sequential  # используем полносвязную нейронную сеть\n",
    "\n",
    "from keras.layers.core import Dense, Dropout, Activation # типы слоев, которые будем использовать\n",
    "from keras.utils import np_utils  \n",
    "\n",
    "# Датасет MNIST состоит из 60,000 обучающих примеров размером 28 x 28 пикселей \n",
    "# и из 10,000 тестовых примеров размером 28 x 28 пикселей\n",
    "(X_train, y_train), (X_test, y_test) = mnist.load_data()\n",
    "\n",
    "print(\"X_train shape\", X_train.shape)\n",
    "print(\"y_train shape\", y_train.shape)\n",
    "print(\"X_test shape\", X_test.shape)\n",
    "print(\"y_test shape\", y_test.shape)"
   ]
  },
  {
   "cell_type": "code",
   "execution_count": 2,
   "metadata": {
    "colab": {},
    "colab_type": "code",
    "id": "FkOuZpidtewI"
   },
   "outputs": [
    {
     "name": "stdout",
     "output_type": "stream",
     "text": [
      "Training matrix shape (60000, 784)\n",
      "Testing matrix shape (10000, 784)\n"
     ]
    }
   ],
   "source": [
    "X_train = X_train.reshape(60000, 784) # преобразуем 60,000 изображений размером 28 x 28 в 60,000 векторов длиной 784\n",
    "# помним, что нейронная сеть принимает на вход векторы, а не матрицы. \n",
    "# Поэтому необходим вектор именно такой длины - 784 (28*28)\n",
    "X_test = X_test.reshape(10000, 784)   # аналогично преобразуем тестовую выборку в набор векторов\n",
    "X_train = X_train.astype('float32')   # для повышения точности задаем вектору тип с плавающей точкой\n",
    "X_test = X_test.astype('float32')\n",
    "X_train /= 255                        # нормализуем значения в векторах (было от 0 до 255, стало от 0 до 1)\n",
    "X_test /= 255\n",
    "print(\"Training matrix shape\", X_train.shape) # проверяем результаты преобразования\n",
    "print(\"Testing matrix shape\", X_test.shape)"
   ]
  },
  {
   "cell_type": "code",
   "execution_count": 3,
   "metadata": {
    "colab": {},
    "colab_type": "code",
    "id": "88yOqgw2tewc"
   },
   "outputs": [],
   "source": [
    "nb_classes = 10 # задаем количество классов. В нашем случае 10, по количеству цифр\n",
    "# создаем аннотации (объясняем нейронной сети, что изображено на картинке)\n",
    "Y_train = np_utils.to_categorical(y_train, nb_classes) \n",
    "Y_test = np_utils.to_categorical(y_test, nb_classes)\n",
    "# инициализируем модель нейронной сети\n",
    "model = Sequential()\n",
    "# добаляем входной слой, задаем количество входных нейронов = 784\n",
    "model.add(Dense(512, input_shape=(784,)))\n",
    "# задаем функцию активации типа ReLu\n",
    "model.add(Activation('relu'))\n",
    "# задаем степень дропаута - процент нейронов, которые будут заморожены в процессе обучения\n",
    "# это делается для повышения устойчивости нейронной сети\n",
    "model.add(Dropout(0.2))"
   ]
  },
  {
   "cell_type": "code",
   "execution_count": 4,
   "metadata": {
    "colab": {},
    "colab_type": "code",
    "id": "SW7vujodteyO"
   },
   "outputs": [],
   "source": [
    "# аналогично добавляем скрытый слой, функцию активации для него и параметр дропаута\n",
    "model.add(Dense(512))\n",
    "model.add(Activation('relu'))\n",
    "model.add(Dropout(0.2))"
   ]
  },
  {
   "cell_type": "code",
   "execution_count": 5,
   "metadata": {
    "colab": {},
    "colab_type": "code",
    "id": "XOUtw9aPteyi"
   },
   "outputs": [
    {
     "name": "stdout",
     "output_type": "stream",
     "text": [
      "Model: \"sequential_1\"\n",
      "_________________________________________________________________\n",
      "Layer (type)                 Output Shape              Param #   \n",
      "=================================================================\n",
      "dense_1 (Dense)              (None, 512)               401920    \n",
      "_________________________________________________________________\n",
      "activation_1 (Activation)    (None, 512)               0         \n",
      "_________________________________________________________________\n",
      "dropout_1 (Dropout)          (None, 512)               0         \n",
      "_________________________________________________________________\n",
      "dense_2 (Dense)              (None, 512)               262656    \n",
      "_________________________________________________________________\n",
      "activation_2 (Activation)    (None, 512)               0         \n",
      "_________________________________________________________________\n",
      "dropout_2 (Dropout)          (None, 512)               0         \n",
      "_________________________________________________________________\n",
      "dense_3 (Dense)              (None, 10)                5130      \n",
      "_________________________________________________________________\n",
      "activation_3 (Activation)    (None, 10)                0         \n",
      "=================================================================\n",
      "Total params: 669,706\n",
      "Trainable params: 669,706\n",
      "Non-trainable params: 0\n",
      "_________________________________________________________________\n"
     ]
    }
   ],
   "source": [
    "# выходной слой, содержащий 10 нейронов (по количеству классов, которые необходимо различать)\n",
    "model.add(Dense(10))\n",
    "# Задаем для него функцию активации softmax\n",
    "model.add(Activation('softmax'))\n",
    "# проверяем параметры модели нейронной сети\n",
    "model.summary()"
   ]
  },
  {
   "cell_type": "code",
   "execution_count": 6,
   "metadata": {
    "colab": {},
    "colab_type": "code",
    "id": "sYvHU-Cctez1"
   },
   "outputs": [
    {
     "name": "stdout",
     "output_type": "stream",
     "text": [
      "Epoch 1/5\n",
      "60000/60000 [==============================] - 7s 120us/step - loss: 0.2516 - accuracy: 0.9258\n",
      "Epoch 2/5\n",
      "60000/60000 [==============================] - 7s 116us/step - loss: 0.1026 - accuracy: 0.9685\n",
      "Epoch 3/5\n",
      "60000/60000 [==============================] - 7s 120us/step - loss: 0.0719 - accuracy: 0.9770\n",
      "Epoch 4/5\n",
      "60000/60000 [==============================] - 7s 118us/step - loss: 0.0547 - accuracy: 0.9826\n",
      "Epoch 5/5\n",
      "60000/60000 [==============================] - 7s 121us/step - loss: 0.0457 - accuracy: 0.9851\n"
     ]
    },
    {
     "data": {
      "text/plain": [
       "<keras.callbacks.callbacks.History at 0x158e72b4dc8>"
      ]
     },
     "execution_count": 6,
     "metadata": {},
     "output_type": "execute_result"
    }
   ],
   "source": [
    "# Собираем модель. Задаем функцию потерь, тип оптимизатора, метрику для рассчета успешности обучения\n",
    "model.compile(loss='categorical_crossentropy', optimizer='adam', metrics=['accuracy'])\n",
    "#Обучаем нейронную сеть (группируем тренировочную выборку в 128 партий, ограничиваем количество эпох 5ю)\n",
    "# параметр verbose = 1 означает, что мы процесс обучения будет визуализирован \n",
    "# (для сравнения попробуйте установить verbose = 0 или 2)\n",
    "model.fit(X_train, Y_train,\n",
    "          batch_size=128, epochs=5,\n",
    "          verbose=1)"
   ]
  },
  {
   "cell_type": "code",
   "execution_count": 7,
   "metadata": {
    "colab": {},
    "colab_type": "code",
    "id": "3Zazeatrte0Q"
   },
   "outputs": [
    {
     "name": "stdout",
     "output_type": "stream",
     "text": [
      "10000/10000 [==============================] - 0s 46us/step\n",
      "Test score: 0.06819547452929546\n",
      "Test accuracy: 0.9794999957084656\n"
     ]
    }
   ],
   "source": [
    "# проверяем точность обученной модели\n",
    "score = model.evaluate(X_test, Y_test)\n",
    "print('Test score:', score[0])\n",
    "print('Test accuracy:', score[1])"
   ]
  },
  {
   "cell_type": "code",
   "execution_count": 71,
   "metadata": {},
   "outputs": [
    {
     "name": "stdout",
     "output_type": "stream",
     "text": [
      "Обработка изображения нейронной сетью \n",
      "\n",
      "\n"
     ]
    },
    {
     "data": {
      "image/png": "[encoded data removed]",
      "text/plain": [
       "<Figure size 432x288 with 1 Axes>"
      ]
     },
     "metadata": {
      "needs_background": "light"
     },
     "output_type": "display_data"
    },
    {
     "name": "stdout",
     "output_type": "stream",
     "text": [
      "\n",
      "\n",
      "Результат: 2\n",
      "Обработка изображения нейронной сетью \n",
      "\n",
      "\n"
     ]
    },
    {
     "data": {
      "image/png": "[encoded data removed]",
      "text/plain": [
       "<Figure size 432x288 with 1 Axes>"
      ]
     },
     "metadata": {
      "needs_background": "light"
     },
     "output_type": "display_data"
    },
    {
     "name": "stdout",
     "output_type": "stream",
     "text": [
      "\n",
      "\n",
      "Результат: 0\n",
      "Обработка изображения нейронной сетью \n",
      "\n",
      "\n"
     ]
    },
    {
     "data": {
      "image/png": "[encoded data removed]",
      "text/plain": [
       "<Figure size 432x288 with 1 Axes>"
      ]
     },
     "metadata": {
      "needs_background": "light"
     },
     "output_type": "display_data"
    },
    {
     "name": "stdout",
     "output_type": "stream",
     "text": [
      "\n",
      "\n",
      "Результат: 0\n",
      "Обработка изображения нейронной сетью \n",
      "\n",
      "\n"
     ]
    },
    {
     "data": {
      "image/png": "[encoded data removed]",
      "text/plain": [
       "<Figure size 432x288 with 1 Axes>"
      ]
     },
     "metadata": {
      "needs_background": "light"
     },
     "output_type": "display_data"
    },
    {
     "name": "stdout",
     "output_type": "stream",
     "text": [
      "\n",
      "\n",
      "Результат: 8\n",
      "Обработка изображения нейронной сетью \n",
      "\n",
      "\n"
     ]
    },
    {
     "data": {
      "image/png": "[encoded data removed]",
      "text/plain": [
       "<Figure size 432x288 with 1 Axes>"
      ]
     },
     "metadata": {
      "needs_background": "light"
     },
     "output_type": "display_data"
    },
    {
     "name": "stdout",
     "output_type": "stream",
     "text": [
      "\n",
      "\n",
      "Результат: 7\n",
      "Обработка изображения нейронной сетью \n",
      "\n",
      "\n"
     ]
    },
    {
     "data": {
      "image/png": "[encoded data removed]",
      "text/plain": [
       "<Figure size 432x288 with 1 Axes>"
      ]
     },
     "metadata": {
      "needs_background": "light"
     },
     "output_type": "display_data"
    },
    {
     "name": "stdout",
     "output_type": "stream",
     "text": [
      "\n",
      "\n",
      "Результат: 2\n",
      "Обработка изображения нейронной сетью \n",
      "\n",
      "\n"
     ]
    },
    {
     "data": {
      "image/png": "[encoded data removed]",
      "text/plain": [
       "<Figure size 432x288 with 1 Axes>"
      ]
     },
     "metadata": {
      "needs_background": "light"
     },
     "output_type": "display_data"
    },
    {
     "name": "stdout",
     "output_type": "stream",
     "text": [
      "\n",
      "\n",
      "Результат: 5\n"
     ]
    }
   ],
   "source": [
    "image=cv2.imread(\"test_image_5.jpg\")\n",
    "image_original=cv2.imread(\"test_image.jpg\")\n",
    "\n",
    "height, width = image.shape[:2]\n",
    "res = cv2.resize(image,(int(0.2*width), int(0.2*height)), interpolation = cv2.INTER_CUBIC)\n",
    "gray=cv2.cvtColor(res, cv2.COLOR_BGR2GRAY)\n",
    "blur = cv2.GaussianBlur(gray,(3,3),0)\n",
    "ret,thresh1 = cv2.threshold(blur,250,255,cv2.THRESH_BINARY_INV+cv2.THRESH_OTSU)\n",
    "\n",
    "\n",
    "contours, hierarchy = cv2.findContours(thresh1, cv2.RETR_EXTERNAL, cv2.CHAIN_APPROX_SIMPLE)\n",
    "cv2.drawContours(image, contours, -1, (0, 255, 0), -1)\n",
    "\n",
    "i=0\n",
    "preprocessed_digits=[]\n",
    "for c in contours:\n",
    "    area = cv2.contourArea(c)\n",
    "    if area>10:\n",
    "        x,y,w,h=cv2.boundingRect(c)\n",
    "        cv2.rectangle(res, (x,y), (x+w, y+h), color=(255,0,0), thickness=2)\n",
    "        digit= thresh1[y:y+h, x:x+w]\n",
    "        resized_digit=cv2.resize(digit, (18,18))\n",
    "        padded_digit=np.pad(resized_digit, ((5,5), (5,5)), \"constant\", constant_values=0)\n",
    "        preprocessed_digits.append(padded_digit)\n",
    "    \n",
    "input_array=np.array(preprocessed_digits)\n",
    "\n",
    "for digit in preprocessed_digits:\n",
    "    prediction = model.predict(digit.reshape(1,784))\n",
    "    print(\"Обработка изображения нейронной сетью \\n\\n\")\n",
    "    plt.imshow(digit.reshape(28,28), cmap=\"gray\")\n",
    "    plt.show()\n",
    "    print(\"\\n\\nРезультат: {}\".format(np.argmax(prediction)))\n",
    "#cv2.imshow(\"Image\", res)\n",
    "#cv2.waitKey(0)\n",
    "#cv2.destroyAllWindows() "
   ]
  },
  {
   "cell_type": "code",
   "execution_count": 67,
   "metadata": {},
   "outputs": [],
   "source": [
    "\n",
    "#Тестирование открытия изображения\n",
    "image=cv2.imread(\"test_image_5.jpg\")\n",
    "height, width = image.shape[:2]\n",
    "res = cv2.resize(image,(int(0.2*width), int(0.2*height)), interpolation = cv2.INTER_CUBIC)\n",
    "res1 = cv2.resize(image,(int(0.2*width), int(0.2*height)), interpolation = cv2.INTER_CUBIC)\n",
    "gray=cv2.cvtColor(res1, cv2.COLOR_BGR2GRAY)\n",
    "blur = cv2.GaussianBlur(gray,(3,3),0)\n",
    "ret,thresh1 = cv2.threshold(blur,250,255,cv2.THRESH_BINARY_INV+cv2.THRESH_OTSU)\n",
    "\n",
    "\n",
    "contours, hierarchy = cv2.findContours(thresh1, cv2.RETR_EXTERNAL, cv2.CHAIN_APPROX_SIMPLE)\n",
    "cv2.drawContours(res1, contours, -1, (0, 255, 0), -1)\n",
    "\n",
    "\n",
    "cv2.imshow(\"Image\", thresh1)\n",
    "cv2.waitKey(0)\n",
    "cv2.destroyAllWindows() "
   ]
  },
  {
   "cell_type": "code",
   "execution_count": null,
   "metadata": {},
   "outputs": [],
   "source": []
  }
 ],
 "metadata": {
  "colab": {
   "name": "MNIST in Keras.ipynb",
   "provenance": []
  },
  "kernelspec": {
   "display_name": "Python 3",
   "language": "python",
   "name": "python3"
  },
  "language_info": {
   "codemirror_mode": {
    "name": "ipython",
    "version": 3
   },
   "file_extension": ".py",
   "mimetype": "text/x-python",
   "name": "python",
   "nbconvert_exporter": "python",
   "pygments_lexer": "ipython3",
   "version": "3.7.5"
  }
 },
 "nbformat": 4,
 "nbformat_minor": 4
}
